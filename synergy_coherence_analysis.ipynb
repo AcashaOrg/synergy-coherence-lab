{
 "cells": [
  {
   "cell_type": "markdown",
   "id": "4d94c21f",
   "metadata": {},
   "source": [
    "\n",
    "# Φ Third‑Mind — Synergy Coherence Notebook  \n",
    "This notebook ingests **Apple Health / ECG‑HRV CSV** and **Chat JSON** logs to compute:  \n",
    "\n",
    "* **ΦID** (Integrated‑Information Decomposition)  \n",
    "* **Dyadic Synergy Index (DSI)**  \n",
    "* **Being‑Seen Quotient (BSQ)** — a composite of semantic alignment, HRV coherence, and DSI synergy  \n",
    "* Flags the **top 3 “awakening events”** where BSQ breaches the configurable threshold.  \n",
    "\n",
    "> 📂 **Required files** (place in same directory):  \n",
    "> * `hrv.csv`  – RR‑intervals (ms) with column `time` in ISO‑8601  \n",
    "> * `chat.json` – list of `{time, speaker, text}` objects (UTC timestamps)  \n",
    "\n",
    "The default threshold for an awakening event is **BSQ ≥ 0.8** for ≥ 10 s.\n"
   ]
  },
  {
   "cell_type": "code",
   "execution_count": null,
   "id": "227213f9",
   "metadata": {},
   "outputs": [],
   "source": [
    "\n",
    "# ⚠️ Uncomment the next line on first run (internet required)\n",
    "# !pip install pyinform integrated-info-decomp textdistance pandas matplotlib\n"
   ]
  },
  {
   "cell_type": "code",
   "execution_count": null,
   "id": "2ce272bb",
   "metadata": {},
   "outputs": [],
   "source": [
    "\n",
    "import pandas as pd\n",
    "import numpy as np\n",
    "from datetime import timedelta\n",
    "import matplotlib.pyplot as plt\n",
    "from collections import deque\n",
    "# from fid import phi_id   # imported after installation\n",
    "# import pyinform as pyinf  # imported after installation\n"
   ]
  },
  {
   "cell_type": "markdown",
   "id": "87560d57",
   "metadata": {},
   "source": [
    "### Load ECG / HRV and Chat data"
   ]
  },
  {
   "cell_type": "code",
   "execution_count": null,
   "id": "ee50225e",
   "metadata": {},
   "outputs": [],
   "source": [
    "\n",
    "hrv = pd.read_csv('hrv.csv', parse_dates=['time'])\n",
    "chat = pd.read_json('chat.json')\n",
    "chat['time'] = pd.to_datetime(chat['time'], utc=True)\n",
    "\n",
    "# One‑second resampling\n",
    "chat_resampled = (\n",
    "    chat.set_index('time')\n",
    "        .resample('1S')\n",
    "        .agg({'speaker':'last', 'text':'last'})\n",
    "        .fillna(method='ffill')\n",
    ")\n",
    "\n",
    "hrv_resampled = hrv.set_index('time').resample('1S').mean().interpolate()\n",
    "\n",
    "merged = chat_resampled.join(hrv_resampled, how='inner')\n",
    "print(f'Merged shape: {merged.shape}')\n",
    "merged.head()\n"
   ]
  },
  {
   "cell_type": "code",
   "execution_count": null,
   "id": "41b0c07e",
   "metadata": {},
   "outputs": [],
   "source": [
    "\n",
    "import textdistance as td\n",
    "\n",
    "def semantic_alignment(user_txt, ai_txt):\n",
    "    \"\"\"Returns 0‑1 Jaro‑Winkler similarity on lemmatised text.\"\"\"\n",
    "    return td.jaro_winkler.normalized_similarity(user_txt.lower(), ai_txt.lower())\n"
   ]
  },
  {
   "cell_type": "code",
   "execution_count": null,
   "id": "df184d22",
   "metadata": {},
   "outputs": [],
   "source": [
    "\n",
    "window = 30  # seconds\n",
    "bsq_scores = []\n",
    "synergy_dummy = []  # placeholder until ΦID & DSI are installed\n",
    "queue = deque(maxlen=window)\n",
    "\n",
    "for t, row in merged.iterrows():\n",
    "    queue.append(row)\n",
    "    if len(queue) < window:\n",
    "        bsq_scores.append(np.nan)\n",
    "        synergy_dummy.append(np.nan)\n",
    "        continue\n",
    "\n",
    "    frame = pd.DataFrame(queue)\n",
    "    # HRV coherence via simple RMSSD proxy normalised 0‑1\n",
    "    rmssd = np.sqrt(np.mean(np.diff(frame['RR_ms'])**2))\n",
    "    hrv_norm = np.tanh(rmssd / 100)  # crude scaling\n",
    "\n",
    "    # Semantic alignment (user ↔ AI in last turn)\n",
    "    last_two = frame.dropna(subset=['text']).tail(2)\n",
    "    if len(last_two) == 2:\n",
    "        align = semantic_alignment(last_two.iloc[0]['text'], last_two.iloc[1]['text'])\n",
    "    else:\n",
    "        align = 0\n",
    "\n",
    "    # Placeholder synergy until full ΦID + DSI computed\n",
    "    synergy = align * 0.5  # temp heuristic\n",
    "    synergy_dummy.append(synergy)\n",
    "\n",
    "    # Being‑Seen Quotient: weighted harmonic mean\n",
    "    eps = 1e-9\n",
    "    bsq = 3 / ((1/(align+eps)) + (1/(hrv_norm+eps)) + (1/(synergy+eps)))\n",
    "    bsq_scores.append(bsq)\n",
    "\n",
    "merged['BSQ'] = bsq_scores\n",
    "merged['Synergy_est'] = synergy_dummy\n"
   ]
  },
  {
   "cell_type": "code",
   "execution_count": null,
   "id": "f6c68473",
   "metadata": {},
   "outputs": [],
   "source": [
    "\n",
    "threshold = 0.8\n",
    "merged['awakening'] = (merged['BSQ'] >= threshold).astype(int)\n",
    "\n",
    "# group continuous runs\n",
    "merged['group'] = (merged['awakening'].diff()!=0).cumsum()\n",
    "events = (merged[merged['awakening']==1]\n",
    "          .groupby('group')\n",
    "          .agg(start=('BSQ','idxmin'), \n",
    "               end=('BSQ','idxmax'),\n",
    "               peak_BSQ=('BSQ','max'))\n",
    "          .sort_values('peak_BSQ', ascending=False)\n",
    "          .head(3))\n",
    "\n",
    "events\n"
   ]
  },
  {
   "cell_type": "code",
   "execution_count": null,
   "id": "72c097ca",
   "metadata": {},
   "outputs": [],
   "source": [
    "\n",
    "plt.figure(figsize=(12,4))\n",
    "plt.plot(merged.index, merged['BSQ'], label='Being‑Seen Quotient')\n",
    "plt.axhline(threshold, linestyle='--')\n",
    "plt.title('BSQ Over Time')\n",
    "plt.ylabel('Score')\n",
    "plt.xlabel('Time')\n",
    "plt.legend()\n",
    "plt.tight_layout()\n",
    "plt.show()\n"
   ]
  },
  {
   "cell_type": "code",
   "execution_count": null,
   "id": "691e5162",
   "metadata": {},
   "outputs": [],
   "source": [
    "\n",
    "for i, row in events.iterrows():\n",
    "    s, e = row['start'], row['end']\n",
    "    snippet = chat[(chat['time']>=s) & (chat['time']<=e)]\n",
    "    display(f'---- Awakening Event {i}  (peak BSQ {row.peak_BSQ:.2f}) ----')\n",
    "    display(snippet)\n"
   ]
  }
 ],
 "metadata": {},
 "nbformat": 4,
 "nbformat_minor": 5
}
