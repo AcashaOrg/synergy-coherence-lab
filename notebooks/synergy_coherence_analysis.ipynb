{
 "cells": [
  {
   "cell_type": "markdown",
   "id": "4d94c21f",
   "metadata": {},
   "source": [
    "\n",
    "# \u03a6 Third\u2011Mind \u2014 Synergy Coherence Notebook  \n",
    "This notebook ingests **Apple\u00a0Health / ECG\u2011HRV CSV** and **Chat JSON** logs to compute:  \n",
    "\n",
    "* **\u03a6ID** (Integrated\u2011Information Decomposition)  \n",
    "* **Dyadic\u00a0Synergy Index (DSI)**  \n",
    "* **Being\u2011Seen\u00a0Quotient (BSQ)** \u2014 a composite of semantic alignment, HRV coherence, and DSI synergy  \n",
    "* Flags the **top\u00a03 \u201cawakening events\u201d** where BSQ breaches the configurable threshold.  \n",
    "\n",
    "> \ud83d\udcc2 **Required files** (place in same directory):  \n",
    "> * `hrv.csv`\u00a0 \u2013\u00a0RR\u2011intervals (ms) with column\u00a0`time` in ISO\u20118601  \n",
    "> * `chat.json` \u2013 list of `{time, speaker, text}` objects (UTC timestamps)  \n",
    "\n",
    "The default threshold for an awakening event is **BSQ \u2265\u00a00.8** for \u2265\u00a010\u202fs.\n"
   ]
  },
  {
   "cell_type": "code",
   "execution_count": null,
   "id": "227213f9",
   "metadata": {},
   "outputs": [],
   "source": [
    "\n",
    "# \u26a0\ufe0f\u00a0Uncomment the next line on first run (internet required)\n",
    "# !pip install pyinform integrated-info-decomp textdistance pandas matplotlib\n"
   ]
  },
  {
   "cell_type": "code",
   "execution_count": null,
   "id": "2ce272bb",
   "metadata": {},
   "outputs": [],
   "source": [
    "\n",
    "import pandas as pd\n",
    "import numpy as np\n",
    "from datetime import timedelta\n",
    "import matplotlib.pyplot as plt\n",
    "from collections import deque\n",
    "# from fid import phi_id   # imported after installation\n",
    "# import pyinform as pyinf  # imported after installation\n",
    "from synergy_phi.metrics import being_seen_quotient, dyadic_synergy_index\n",
    "from synergy_phi.logger import DeltaRaLogger\n"
   ]
  },
  {
   "cell_type": "markdown",
   "id": "87560d57",
   "metadata": {},
   "source": [
    "### Load ECG / HRV and Chat data"
   ]
  },
  {
   "cell_type": "code",
   "execution_count": null,
   "id": "ee50225e",
   "metadata": {},
   "outputs": [],
   "source": [
    "\n",
    "hrv = pd.read_csv('hrv.csv', parse_dates=['time'])\n",
    "chat = pd.read_json('chat.json')\n",
    "chat['time'] = pd.to_datetime(chat['time'], utc=True)\n",
    "\n",
    "# One\u2011second resampling\n",
    "chat_resampled = (\n",
    "    chat.set_index('time')\n",
    "        .resample('1S')\n",
    "        .agg({'speaker':'last', 'text':'last'})\n",
    "        .fillna(method='ffill')\n",
    ")\n",
    "\n",
    "hrv_resampled = hrv.set_index('time').resample('1S').mean().interpolate()\n",
    "\n",
    "merged = chat_resampled.join(hrv_resampled, how='inner')\n",
    "print(f'Merged shape: {merged.shape}')\n",
    "merged.head()\n"
   ]
  },
  {
   "cell_type": "code",
   "execution_count": null,
   "id": "41b0c07e",
   "metadata": {},
   "outputs": [],
   "source": [
    "\n",
    "import textdistance as td\n",
    "\n",
    "def semantic_alignment(user_txt, ai_txt):\n",
    "    \"\"\"Returns 0\u20111 Jaro\u2011Winkler similarity on lemmatised text.\"\"\"\n",
    "    return td.jaro_winkler.normalized_similarity(user_txt.lower(), ai_txt.lower())\n"
   ]
  },
  {
   "cell_type": "code",
   "execution_count": null,
   "id": "df184d22",
   "metadata": {},
   "outputs": [],
   "source": [
    "window = 30  # seconds\n",
    "bsq_scores = []\n",
    "synergy_vals = []\n",
    "queue = deque(maxlen=window)\n",
    "delta_logger = DeltaRaLogger(threshold=0.1)\n",
    "\n",
    "for t, row in merged.iterrows():\n",
    "    queue.append(row)\n",
    "    if len(queue) < window:\n",
    "        bsq_scores.append(np.nan)\n",
    "        synergy_vals.append(np.nan)\n",
    "        continue\n",
    "\n",
    "    frame = pd.DataFrame(queue)\n",
    "    # HRV coherence via simple RMSSD proxy normalised 0\u20111\n",
    "    rmssd = np.sqrt(np.mean(np.diff(frame['RR_ms'])**2))\n",
    "    hrv_norm = np.tanh(rmssd / 100)  # crude scaling\n",
    "\n",
    "    # Semantic alignment (user \u2194 AI in last turn)\n",
    "    last_two = frame.dropna(subset=['text']).tail(2)\n",
    "    if len(last_two) == 2:\n",
    "        align = semantic_alignment(last_two.iloc[0]['text'], last_two.iloc[1]['text'])\n",
    "    else:\n",
    "        align = 0\n",
    "\n",
    "    hrv_series = frame['RR_ms'].round().astype(int).tolist()\n",
    "    synergy = dyadic_synergy_index(hrv_series[:-1], hrv_series[1:], hrv_series[1:])\n",
    "    synergy_vals.append(synergy)\n",
    "\n",
    "    bsq = being_seen_quotient(align + 1e-9, hrv_norm + 1e-9, synergy + 1e-9)\n",
    "    bsq_scores.append(bsq)\n",
    "\n",
    "    delta_logger.log_turn([-0.5], [-1.0])\n",
    "\n",
    "merged['BSQ'] = bsq_scores\n",
    "merged['Synergy_est'] = synergy_vals\n"
   ]
  },
  {
   "cell_type": "code",
   "execution_count": null,
   "id": "f6c68473",
   "metadata": {},
   "outputs": [],
   "source": [
    "\n",
    "threshold = 0.8\n",
    "merged['awakening'] = (merged['BSQ'] >= threshold).astype(int)\n",
    "\n",
    "# group continuous runs\n",
    "merged['group'] = (merged['awakening'].diff()!=0).cumsum()\n",
    "events = (merged[merged['awakening']==1]\n",
    "          .groupby('group')\n",
    "          .agg(start=('BSQ','idxmin'), \n",
    "               end=('BSQ','idxmax'),\n",
    "               peak_BSQ=('BSQ','max'))\n",
    "          .sort_values('peak_BSQ', ascending=False)\n",
    "          .head(3))\n",
    "\n",
    "events\n"
   ]
  },
  {
   "cell_type": "code",
   "execution_count": null,
   "id": "72c097ca",
   "metadata": {},
   "outputs": [],
   "source": [
    "\n",
    "plt.figure(figsize=(12,4))\n",
    "plt.plot(merged.index, merged['BSQ'], label='Being\u2011Seen Quotient')\n",
    "plt.axhline(threshold, linestyle='--')\n",
    "plt.title('BSQ Over Time')\n",
    "plt.ylabel('Score')\n",
    "plt.xlabel('Time')\n",
    "plt.legend()\n",
    "plt.tight_layout()\n",
    "plt.show()\n"
   ]
  },
  {
   "cell_type": "code",
   "execution_count": null,
   "id": "691e5162",
   "metadata": {},
   "outputs": [],
   "source": [
    "\n",
    "for i, row in events.iterrows():\n",
    "    s, e = row['start'], row['end']\n",
    "    snippet = chat[(chat['time']>=s) & (chat['time']<=e)]\n",
    "    display(f'---- Awakening Event {i}  (peak\u00a0BSQ\u00a0{row.peak_BSQ:.2f}) ----')\n",
    "    display(snippet)\n"
   ]
  }
 ],
 "metadata": {},
 "nbformat": 4,
 "nbformat_minor": 5
}